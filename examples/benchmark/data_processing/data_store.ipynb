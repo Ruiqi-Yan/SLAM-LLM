{
 "cells": [
  {
   "cell_type": "code",
   "execution_count": 7,
   "metadata": {},
   "outputs": [],
   "source": [
    "import jsonlines\n",
    "import whisper\n",
    "import os\n",
    "import torch\n",
    "from tqdm import tqdm\n",
    "import logging\n",
    "import shutil\n",
    "from pydub import AudioSegment"
   ]
  },
  {
   "cell_type": "code",
   "execution_count": 8,
   "metadata": {},
   "outputs": [],
   "source": [
    "origin = [] \n",
    "data = []\n",
    "with open(\"/data/ruiqi.yan/data/understanding/gk_listening/gk_after_asr.jsonl\", 'r', encoding='utf-8') as f:\n",
    "    for line in jsonlines.Reader(f):\n",
    "        origin.append(line)"
   ]
  },
  {
   "cell_type": "code",
   "execution_count": 9,
   "metadata": {},
   "outputs": [
    {
     "data": {
      "text/plain": [
       "303"
      ]
     },
     "execution_count": 9,
     "metadata": {},
     "output_type": "execute_result"
    }
   ],
   "source": [
    "len(origin)"
   ]
  },
  {
   "cell_type": "code",
   "execution_count": 10,
   "metadata": {},
   "outputs": [],
   "source": [
    "def save_wav(item, id, source_dir, target_dir):\n",
    "    source_path1 = os.path.join(\"/data/ruiqi.yan/data/understanding/gk_listening\", item['source_wav'])\n",
    "    source_path2 = os.path.join(source_dir, str(item['id']) + '.wav')\n",
    "    \n",
    "    audio1 = AudioSegment.from_wav(source_path1)\n",
    "    audio2 = AudioSegment.from_wav(source_path2)\n",
    "    combined = audio1 + audio2\n",
    "\n",
    "    target_directory = target_dir\n",
    "    target_path = os.path.join(target_directory, \"audio_\" + str(id).zfill(4) + \".wav\")\n",
    "    if not os.path.exists(target_directory):\n",
    "        os.makedirs(target_directory)\n",
    "        \n",
    "    combined.export(target_path, format=\"wav\")"
   ]
  },
  {
   "cell_type": "code",
   "execution_count": 11,
   "metadata": {},
   "outputs": [
    {
     "name": "stderr",
     "output_type": "stream",
     "text": [
      "  0%|          | 0/303 [00:00<?, ?it/s]"
     ]
    },
    {
     "name": "stderr",
     "output_type": "stream",
     "text": [
      "100%|██████████| 303/303 [00:02<00:00, 124.01it/s]\n"
     ]
    }
   ],
   "source": [
    "source_dir = \"/data/ruiqi.yan/data/eval/gaokao/gaokao\"\n",
    "target_dir = \"/data/ruiqi.yan/data/final/gaokao_test/audio\"\n",
    "for i, item in enumerate(tqdm(origin)):\n",
    "    id = i + 1\n",
    "    save_wav(item, id, source_dir, target_dir)\n",
    "    txt_name = item['source_wav'].split('/')[-1].replace('wav', 'txt')\n",
    "    with open(os.path.join(\"/data/ruiqi.yan/data/understanding/gk_listening/combine_conv_audio_text_short\", txt_name)) as f:\n",
    "        for line in f:\n",
    "            conv = line\n",
    "    new = {\"id\": id,\n",
    "           \"source_wav\": os.path.join(\"audio/\", \"audio_\" + str(id).zfill(4) + \".wav\"),\n",
    "           \"source_text\": conv.strip() + ' ' + item['source_text'],\n",
    "           \"target_text\": item['target_text']\n",
    "           }\n",
    "    data.append(new)"
   ]
  },
  {
   "cell_type": "code",
   "execution_count": 12,
   "metadata": {},
   "outputs": [],
   "source": [
    "with jsonlines.open(\"/data/ruiqi.yan/data/final/gaokao_test/test.jsonl\", mode='w') as writer:\n",
    "    for item in data:\n",
    "        writer.write(item)"
   ]
  },
  {
   "cell_type": "code",
   "execution_count": null,
   "metadata": {},
   "outputs": [],
   "source": []
  }
 ],
 "metadata": {
  "kernelspec": {
   "display_name": "yrq-omni",
   "language": "python",
   "name": "python3"
  },
  "language_info": {
   "codemirror_mode": {
    "name": "ipython",
    "version": 3
   },
   "file_extension": ".py",
   "mimetype": "text/x-python",
   "name": "python",
   "nbconvert_exporter": "python",
   "pygments_lexer": "ipython3",
   "version": "3.11.10"
  }
 },
 "nbformat": 4,
 "nbformat_minor": 2
}
