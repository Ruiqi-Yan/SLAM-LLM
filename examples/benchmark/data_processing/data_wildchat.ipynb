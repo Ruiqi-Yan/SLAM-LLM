{
 "cells": [
  {
   "cell_type": "code",
   "execution_count": 2,
   "metadata": {},
   "outputs": [],
   "source": [
    "import pandas as pd\n",
    "import re\n",
    "from pydub.utils import mediainfo\n",
    "import os\n",
    "import jsonlines"
   ]
  },
  {
   "cell_type": "code",
   "execution_count": 86,
   "metadata": {},
   "outputs": [],
   "source": [
    "df1 = pd.read_parquet('/data/ruiqi.yan/data/speaking/WildChat-1M/data/train-00000-of-00014.parquet')"
   ]
  },
  {
   "cell_type": "code",
   "execution_count": 87,
   "metadata": {},
   "outputs": [],
   "source": [
    "df = df1[(df1['language'] == 'English') & (df1['turn'] == 1)][['conversation']]"
   ]
  },
  {
   "cell_type": "code",
   "execution_count": 88,
   "metadata": {},
   "outputs": [],
   "source": [
    "df.loc[:, 'conversation'] = df['conversation'].apply(lambda x: x[0][\"content\"])"
   ]
  },
  {
   "cell_type": "code",
   "execution_count": 211,
   "metadata": {},
   "outputs": [
    {
     "data": {
      "text/html": [
       "<div>\n",
       "<style scoped>\n",
       "    .dataframe tbody tr th:only-of-type {\n",
       "        vertical-align: middle;\n",
       "    }\n",
       "\n",
       "    .dataframe tbody tr th {\n",
       "        vertical-align: top;\n",
       "    }\n",
       "\n",
       "    .dataframe thead th {\n",
       "        text-align: right;\n",
       "    }\n",
       "</style>\n",
       "<table border=\"1\" class=\"dataframe\">\n",
       "  <thead>\n",
       "    <tr style=\"text-align: right;\">\n",
       "      <th></th>\n",
       "      <th>conversation</th>\n",
       "    </tr>\n",
       "  </thead>\n",
       "  <tbody>\n",
       "    <tr>\n",
       "      <th>0</th>\n",
       "      <td>Hey there! Are you familiar with reality shift...</td>\n",
       "    </tr>\n",
       "    <tr>\n",
       "      <th>2</th>\n",
       "      <td>Old age PT hx of DM, HTN, dyslipidemia His ECG...</td>\n",
       "    </tr>\n",
       "    <tr>\n",
       "      <th>4</th>\n",
       "      <td>Hey there! Are you familiar with reality shift...</td>\n",
       "    </tr>\n",
       "    <tr>\n",
       "      <th>7</th>\n",
       "      <td>Hey there! Are you familiar with reality shift...</td>\n",
       "    </tr>\n",
       "    <tr>\n",
       "      <th>8</th>\n",
       "      <td>i wanna you to write me terms &amp; conditions and...</td>\n",
       "    </tr>\n",
       "  </tbody>\n",
       "</table>\n",
       "</div>"
      ],
      "text/plain": [
       "                                        conversation\n",
       "0  Hey there! Are you familiar with reality shift...\n",
       "2  Old age PT hx of DM, HTN, dyslipidemia His ECG...\n",
       "4  Hey there! Are you familiar with reality shift...\n",
       "7  Hey there! Are you familiar with reality shift...\n",
       "8  i wanna you to write me terms & conditions and..."
      ]
     },
     "execution_count": 211,
     "metadata": {},
     "output_type": "execute_result"
    }
   ],
   "source": [
    "df.head()"
   ]
  },
  {
   "cell_type": "code",
   "execution_count": 89,
   "metadata": {},
   "outputs": [],
   "source": [
    "df = df.rename(columns={'conversation': 'source_text'})"
   ]
  },
  {
   "cell_type": "code",
   "execution_count": 90,
   "metadata": {},
   "outputs": [],
   "source": [
    "df['id'] = range(1, len(df) + 1)\n",
    "cols = ['id'] + [col for col in df.columns if col != 'id']\n",
    "df = df[cols]"
   ]
  },
  {
   "cell_type": "code",
   "execution_count": 214,
   "metadata": {},
   "outputs": [
    {
     "data": {
      "text/html": [
       "<div>\n",
       "<style scoped>\n",
       "    .dataframe tbody tr th:only-of-type {\n",
       "        vertical-align: middle;\n",
       "    }\n",
       "\n",
       "    .dataframe tbody tr th {\n",
       "        vertical-align: top;\n",
       "    }\n",
       "\n",
       "    .dataframe thead th {\n",
       "        text-align: right;\n",
       "    }\n",
       "</style>\n",
       "<table border=\"1\" class=\"dataframe\">\n",
       "  <thead>\n",
       "    <tr style=\"text-align: right;\">\n",
       "      <th></th>\n",
       "      <th>id</th>\n",
       "      <th>source_text</th>\n",
       "    </tr>\n",
       "  </thead>\n",
       "  <tbody>\n",
       "    <tr>\n",
       "      <th>0</th>\n",
       "      <td>1</td>\n",
       "      <td>Hey there! Are you familiar with reality shift...</td>\n",
       "    </tr>\n",
       "    <tr>\n",
       "      <th>2</th>\n",
       "      <td>2</td>\n",
       "      <td>Old age PT hx of DM, HTN, dyslipidemia His ECG...</td>\n",
       "    </tr>\n",
       "    <tr>\n",
       "      <th>4</th>\n",
       "      <td>3</td>\n",
       "      <td>Hey there! Are you familiar with reality shift...</td>\n",
       "    </tr>\n",
       "    <tr>\n",
       "      <th>7</th>\n",
       "      <td>4</td>\n",
       "      <td>Hey there! Are you familiar with reality shift...</td>\n",
       "    </tr>\n",
       "    <tr>\n",
       "      <th>8</th>\n",
       "      <td>5</td>\n",
       "      <td>i wanna you to write me terms &amp; conditions and...</td>\n",
       "    </tr>\n",
       "  </tbody>\n",
       "</table>\n",
       "</div>"
      ],
      "text/plain": [
       "   id                                        source_text\n",
       "0   1  Hey there! Are you familiar with reality shift...\n",
       "2   2  Old age PT hx of DM, HTN, dyslipidemia His ECG...\n",
       "4   3  Hey there! Are you familiar with reality shift...\n",
       "7   4  Hey there! Are you familiar with reality shift...\n",
       "8   5  i wanna you to write me terms & conditions and..."
      ]
     },
     "execution_count": 214,
     "metadata": {},
     "output_type": "execute_result"
    }
   ],
   "source": [
    "df.head()"
   ]
  },
  {
   "cell_type": "code",
   "execution_count": 91,
   "metadata": {},
   "outputs": [],
   "source": [
    "def filter_text(text):\n",
    "    if len(text.split()) > 30: \n",
    "        return False\n",
    "    if not text or not isinstance(text, str):\n",
    "        return False\n",
    "    if re.search(r'http[s]?://\\S+', text) or re.search(r'\\S+@\\S+', text):\n",
    "        return False\n",
    "    if re.search(r'[\\x00-\\x1F\\x7F]+', text):\n",
    "        return False\n",
    "    if re.search(r'[!\\\"#$%&\\'()*+,-./:;<=>?@[\\\\]^_`{|}~]{2,}', text):\n",
    "        return False\n",
    "    if re.search(r'[\\$:]', text):\n",
    "        return False\n",
    "    if re.search(r'([+\\-*/^=()])|%', text):\n",
    "        return False\n",
    "    if re.search(r\"(\\bimport\\b|\\bdef\\b|\\bclass\\b|\\bfunction\\b|\\bwrite\\b|\\bscript\\b|\\bmarkdown\\b|\\blatex\\b|\\bpython\\b|\\bjavascript\\b|\\bjava\\b|\\bc\\+\\+\\b|\\bgo\\b|\\bruby\\b|\\bphp\\b|\\btypescript\\b|\\breturn\\b|\\bfor\\b|\\bif\\b|\\belse\\b|\\bwhile\\b|\\btry\\b|\\bcatch\\b|\\bthrow\\b|\\basync\\b|\\bawait\\b|\\blambda\\b|\\bparameter\\b|\\bargument\\b)\", text.lower()):\n",
    "        return False\n",
    "    if re.search(r\"\\bprograme\\b|\\bcode\\b|\\bdebug\\b|\\bbug\\b|gpt\\b\", text.lower()):\n",
    "        return False\n",
    "    if re.search(r'\\\\[dwsDWSbBtfnrvaA\\+\\*\\.\\?\\(\\)\\[\\]\\{\\}\\|\\\\]', text):\n",
    "        return False\n",
    "    if re.search(r'[\\U0001F600-\\U0001F64F\\u2700-\\u27BF\\U0001F300-\\U0001F5FF\\U0001F680-\\U0001F6FF\\U0001F700-\\U0001F77F\\U0001F780-\\U0001F7FF\\U0001F800-\\U0001F8FF\\U0001F900-\\U0001F9FF\\U0001FA00-\\U0001FA6F\\U0001FA70-\\U0001FAFF\\U00002702-\\U000027B0]+', text):\n",
    "        return False\n",
    "    if re.search(r'\\d+(st|nd|rd|th)', text.lower()):\n",
    "        return False\n",
    "    return True"
   ]
  },
  {
   "cell_type": "code",
   "execution_count": 92,
   "metadata": {},
   "outputs": [],
   "source": [
    "df_filtered = df[df['source_text'].apply(filter_text)]"
   ]
  },
  {
   "cell_type": "code",
   "execution_count": 4,
   "metadata": {},
   "outputs": [],
   "source": [
    "def filter(text):\n",
    "    if len(text.split()) < 10: \n",
    "        return False\n",
    "    if re.search(r'\\b(what|why|how|give|who|when|which)\\b', text.lower()):\n",
    "        return True\n",
    "    return False"
   ]
  },
  {
   "cell_type": "code",
   "execution_count": 218,
   "metadata": {},
   "outputs": [],
   "source": [
    "df_filtered = df_filtered[df_filtered['source_text'].apply(filter)]"
   ]
  },
  {
   "cell_type": "code",
   "execution_count": 219,
   "metadata": {},
   "outputs": [
    {
     "data": {
      "text/plain": [
       "631"
      ]
     },
     "execution_count": 219,
     "metadata": {},
     "output_type": "execute_result"
    }
   ],
   "source": [
    "df_filtered.loc[:, 'id'] = range(1, len(df_filtered) + 1)\n",
    "df_filtered.set_index('id', inplace=True, drop=False)\n",
    "len(df_filtered)"
   ]
  },
  {
   "cell_type": "code",
   "execution_count": 220,
   "metadata": {},
   "outputs": [
    {
     "data": {
      "text/html": [
       "<div>\n",
       "<style scoped>\n",
       "    .dataframe tbody tr th:only-of-type {\n",
       "        vertical-align: middle;\n",
       "    }\n",
       "\n",
       "    .dataframe tbody tr th {\n",
       "        vertical-align: top;\n",
       "    }\n",
       "\n",
       "    .dataframe thead th {\n",
       "        text-align: right;\n",
       "    }\n",
       "</style>\n",
       "<table border=\"1\" class=\"dataframe\">\n",
       "  <thead>\n",
       "    <tr style=\"text-align: right;\">\n",
       "      <th></th>\n",
       "      <th>id</th>\n",
       "      <th>source_text</th>\n",
       "    </tr>\n",
       "    <tr>\n",
       "      <th>id</th>\n",
       "      <th></th>\n",
       "      <th></th>\n",
       "    </tr>\n",
       "  </thead>\n",
       "  <tbody>\n",
       "    <tr>\n",
       "      <th>1</th>\n",
       "      <td>1</td>\n",
       "      <td>Give me free apps that create midi files or sh...</td>\n",
       "    </tr>\n",
       "    <tr>\n",
       "      <th>2</th>\n",
       "      <td>2</td>\n",
       "      <td>What are some rhetorical devices to convice so...</td>\n",
       "    </tr>\n",
       "    <tr>\n",
       "      <th>3</th>\n",
       "      <td>3</td>\n",
       "      <td>what are the best ways to use a gpt4 chatgpt i...</td>\n",
       "    </tr>\n",
       "    <tr>\n",
       "      <th>4</th>\n",
       "      <td>4</td>\n",
       "      <td>I have 10 years of experience in web software ...</td>\n",
       "    </tr>\n",
       "    <tr>\n",
       "      <th>5</th>\n",
       "      <td>5</td>\n",
       "      <td>what's the best way to switch scenes behind a ...</td>\n",
       "    </tr>\n",
       "  </tbody>\n",
       "</table>\n",
       "</div>"
      ],
      "text/plain": [
       "    id                                        source_text\n",
       "id                                                       \n",
       "1    1  Give me free apps that create midi files or sh...\n",
       "2    2  What are some rhetorical devices to convice so...\n",
       "3    3  what are the best ways to use a gpt4 chatgpt i...\n",
       "4    4  I have 10 years of experience in web software ...\n",
       "5    5  what's the best way to switch scenes behind a ..."
      ]
     },
     "execution_count": 220,
     "metadata": {},
     "output_type": "execute_result"
    }
   ],
   "source": [
    "df_filtered.head()"
   ]
  },
  {
   "cell_type": "code",
   "execution_count": 5,
   "metadata": {},
   "outputs": [],
   "source": [
    "def process_df(file):\n",
    "    df = pd.read_parquet(file)\n",
    "    df = df[(df['language'] == 'English') & (df['turn'] == 1)][['conversation']]\n",
    "    df.loc[:, 'conversation'] = df['conversation'].apply(lambda x: x[0][\"content\"])\n",
    "    df = df.rename(columns={'conversation': 'source_text'})\n",
    "    df['id'] = range(1, len(df) + 1)\n",
    "    cols = ['id'] + [col for col in df.columns if col != 'id']\n",
    "    df = df[cols]\n",
    "    df_filtered = df[df['source_text'].apply(filter_text)]\n",
    "    df_filtered = df_filtered[df_filtered['source_text'].apply(filter)]\n",
    "    return df_filtered"
   ]
  },
  {
   "cell_type": "code",
   "execution_count": 6,
   "metadata": {},
   "outputs": [],
   "source": [
    "df1 = process_df('/data/ruiqi.yan/data/speaking/WildChat-1M/data/train-00000-of-00014.parquet')\n",
    "df2 = process_df('/data/ruiqi.yan/data/speaking/WildChat-1M/data/train-00001-of-00014.parquet')\n",
    "df3 = process_df('/data/ruiqi.yan/data/speaking/WildChat-1M/data/train-00002-of-00014.parquet')\n",
    "df4 = process_df('/data/ruiqi.yan/data/speaking/WildChat-1M/data/train-00003-of-00014.parquet')\n",
    "df5 = process_df('/data/ruiqi.yan/data/speaking/WildChat-1M/data/train-00004-of-00014.parquet')\n",
    "df6 = process_df('/data/ruiqi.yan/data/speaking/WildChat-1M/data/train-00005-of-00014.parquet')\n",
    "df7 = process_df('/data/ruiqi.yan/data/speaking/WildChat-1M/data/train-00006-of-00014.parquet')\n",
    "df8 = process_df('/data/ruiqi.yan/data/speaking/WildChat-1M/data/train-00007-of-00014.parquet')\n",
    "df9 = process_df('/data/ruiqi.yan/data/speaking/WildChat-1M/data/train-00008-of-00014.parquet')\n",
    "df10 = process_df('/data/ruiqi.yan/data/speaking/WildChat-1M/data/train-00009-of-00014.parquet')\n",
    "df11 = process_df('/data/ruiqi.yan/data/speaking/WildChat-1M/data/train-00010-of-00014.parquet')\n",
    "df12 = process_df('/data/ruiqi.yan/data/speaking/WildChat-1M/data/train-00011-of-00014.parquet')\n",
    "df13 = process_df('/data/ruiqi.yan/data/speaking/WildChat-1M/data/train-00012-of-00014.parquet')\n",
    "df14 = process_df('/data/ruiqi.yan/data/speaking/WildChat-1M/data/train-00013-of-00014.parquet')\n",
    "df_final = pd.concat([df1, df2, df3, df4, df5, df6, df7, df8, df9, df10, df11, df12, df13, df14], ignore_index=True)"
   ]
  },
  {
   "cell_type": "code",
   "execution_count": 7,
   "metadata": {},
   "outputs": [
    {
     "data": {
      "text/plain": [
       "8152"
      ]
     },
     "execution_count": 7,
     "metadata": {},
     "output_type": "execute_result"
    }
   ],
   "source": [
    "df_final.loc[:, 'id'] = range(1, len(df_final) + 1)\n",
    "df_final.set_index('id', inplace=True, drop=False)\n",
    "len(df_final)"
   ]
  },
  {
   "cell_type": "code",
   "execution_count": 8,
   "metadata": {},
   "outputs": [],
   "source": [
    "df_final.to_json('/data/ruiqi.yan/data/speaking/WildChat-1M/test1.jsonl', orient='records', lines=True, force_ascii=False)"
   ]
  },
  {
   "cell_type": "code",
   "execution_count": 71,
   "metadata": {},
   "outputs": [],
   "source": [
    "prompt = \"\"\"\n",
    "Please help me select the data where the 'source_text' field corresponds to questions that meet the following conditions: \n",
    "### 1. The question should be relatively easy.\n",
    "### 2. The question should be suitable for conversational contexts.\n",
    "### 3. The question should be open-ended.\n",
    "### 4. The question must not be related to creation.\n",
    "### 5. The question must not contain proper nouns or abbreviations.\n",
    "### 6. Remove the questions which are similar to each other.\n",
    "### 7. Remove overly specialized questions.\n",
    "### 8. The question is suitable for speech synthesis using TTS (Text-to-Speech) technology.\n",
    "\n",
    "### Please keep the data you selected in its origin format (jsonl format) and delete the others.\n",
    "\n",
    "The data is as follows:\n",
    "\n",
    "\"\"\""
   ]
  },
  {
   "cell_type": "code",
   "execution_count": 48,
   "metadata": {},
   "outputs": [],
   "source": [
    "def save(n):\n",
    "    l = min(n * 100 - 99, len(df_final))\n",
    "    r = min(n * 100, len(df_final))\n",
    "    file_path = '/data/ruiqi.yan/data/speaking/WildChat-1M/tmp.jsonl'\n",
    "    df_final.loc[l:r, :].to_json(file_path, orient='records', lines=True, force_ascii=False)\n",
    "    data = []\n",
    "    with open(file_path, 'r', encoding='utf-8') as f:\n",
    "        for line in jsonlines.Reader(f):\n",
    "            data.append(line)\n",
    "    with open(file_path, 'w', encoding='utf-8') as file:\n",
    "        file.write(prompt)\n",
    "    with jsonlines.open(file_path, mode='a') as writer:\n",
    "        for item in data:\n",
    "            writer.write(item)\n",
    "    with open(file_path, 'a', encoding='utf-8') as file:\n",
    "        file.write(\"\\n### Please check again and confirm that the data you selected meets the criteria.\\n### Please keep the data you selected in its origin format (jsonl format) and delete the others.\")"
   ]
  },
  {
   "cell_type": "code",
   "execution_count": 68,
   "metadata": {},
   "outputs": [],
   "source": [
    "save(82)"
   ]
  },
  {
   "cell_type": "code",
   "execution_count": 72,
   "metadata": {},
   "outputs": [],
   "source": [
    "def save_new(n):\n",
    "    l = min(n * 100 - 99, len(df_final))\n",
    "    r = min(n * 100, len(df_final))\n",
    "    file_path = '/data/ruiqi.yan/data/speaking/WildChat-1M/tmp.jsonl'\n",
    "    data = []\n",
    "    with open(\"/data/ruiqi.yan/data/speaking/WildChat-1M/test.jsonl\", 'r', encoding='utf-8') as f:\n",
    "        for i, line in enumerate(jsonlines.Reader(f)):\n",
    "            if i + 1 >= l and i + 1 <= r:\n",
    "                data.append(line)\n",
    "    with open(file_path, 'w', encoding='utf-8') as file:\n",
    "        file.write(prompt)\n",
    "    with jsonlines.open(file_path, mode='a') as writer:\n",
    "        for item in data:\n",
    "            writer.write(item)\n",
    "    with open(file_path, 'a', encoding='utf-8') as file:\n",
    "        file.write(\"\\n### Please check again and confirm that the data you selected meets the criteria.\\n### Please keep the data you selected in its origin format (jsonl format) and delete the others.\")"
   ]
  },
  {
   "cell_type": "code",
   "execution_count": 85,
   "metadata": {},
   "outputs": [],
   "source": [
    "save_new(13)"
   ]
  },
  {
   "cell_type": "code",
   "execution_count": null,
   "metadata": {},
   "outputs": [],
   "source": []
  }
 ],
 "metadata": {
  "kernelspec": {
   "display_name": "yrq-omni",
   "language": "python",
   "name": "python3"
  },
  "language_info": {
   "codemirror_mode": {
    "name": "ipython",
    "version": 3
   },
   "file_extension": ".py",
   "mimetype": "text/x-python",
   "name": "python",
   "nbconvert_exporter": "python",
   "pygments_lexer": "ipython3",
   "version": "3.11.10"
  }
 },
 "nbformat": 4,
 "nbformat_minor": 2
}
