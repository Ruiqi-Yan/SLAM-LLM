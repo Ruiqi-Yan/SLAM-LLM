{
 "cells": [
  {
   "cell_type": "code",
   "execution_count": 104,
   "metadata": {},
   "outputs": [],
   "source": [
    "import pandas as pd\n",
    "import re\n",
    "from pydub.utils import mediainfo\n",
    "import os"
   ]
  },
  {
   "cell_type": "code",
   "execution_count": 105,
   "metadata": {},
   "outputs": [],
   "source": [
    "df1 = pd.read_parquet('/data/ruiqi.yan/data/reasoning/gsm8k/main/train-00000-of-00001.parquet')\n",
    "df2 = pd.read_parquet('/data/ruiqi.yan/data/reasoning/gsm8k/main/test-00000-of-00001.parquet')\n",
    "\n",
    "df = pd.concat([df1, df2], ignore_index=True)"
   ]
  },
  {
   "cell_type": "code",
   "execution_count": 106,
   "metadata": {},
   "outputs": [
    {
     "data": {
      "text/plain": [
       "8792"
      ]
     },
     "execution_count": 106,
     "metadata": {},
     "output_type": "execute_result"
    }
   ],
   "source": [
    "len(df)"
   ]
  },
  {
   "cell_type": "code",
   "execution_count": 107,
   "metadata": {},
   "outputs": [
    {
     "data": {
      "text/html": [
       "<div>\n",
       "<style scoped>\n",
       "    .dataframe tbody tr th:only-of-type {\n",
       "        vertical-align: middle;\n",
       "    }\n",
       "\n",
       "    .dataframe tbody tr th {\n",
       "        vertical-align: top;\n",
       "    }\n",
       "\n",
       "    .dataframe thead th {\n",
       "        text-align: right;\n",
       "    }\n",
       "</style>\n",
       "<table border=\"1\" class=\"dataframe\">\n",
       "  <thead>\n",
       "    <tr style=\"text-align: right;\">\n",
       "      <th></th>\n",
       "      <th>question</th>\n",
       "      <th>answer</th>\n",
       "    </tr>\n",
       "  </thead>\n",
       "  <tbody>\n",
       "    <tr>\n",
       "      <th>0</th>\n",
       "      <td>Natalia sold clips to 48 of her friends in Apr...</td>\n",
       "      <td>Natalia sold 48/2 = &lt;&lt;48/2=24&gt;&gt;24 clips in May...</td>\n",
       "    </tr>\n",
       "    <tr>\n",
       "      <th>1</th>\n",
       "      <td>Weng earns $12 an hour for babysitting. Yester...</td>\n",
       "      <td>Weng earns 12/60 = $&lt;&lt;12/60=0.2&gt;&gt;0.2 per minut...</td>\n",
       "    </tr>\n",
       "    <tr>\n",
       "      <th>2</th>\n",
       "      <td>Betty is saving money for a new wallet which c...</td>\n",
       "      <td>In the beginning, Betty has only 100 / 2 = $&lt;&lt;...</td>\n",
       "    </tr>\n",
       "    <tr>\n",
       "      <th>3</th>\n",
       "      <td>Julie is reading a 120-page book. Yesterday, s...</td>\n",
       "      <td>Maila read 12 x 2 = &lt;&lt;12*2=24&gt;&gt;24 pages today....</td>\n",
       "    </tr>\n",
       "    <tr>\n",
       "      <th>4</th>\n",
       "      <td>James writes a 3-page letter to 2 different fr...</td>\n",
       "      <td>He writes each friend 3*2=&lt;&lt;3*2=6&gt;&gt;6 pages a w...</td>\n",
       "    </tr>\n",
       "  </tbody>\n",
       "</table>\n",
       "</div>"
      ],
      "text/plain": [
       "                                            question  \\\n",
       "0  Natalia sold clips to 48 of her friends in Apr...   \n",
       "1  Weng earns $12 an hour for babysitting. Yester...   \n",
       "2  Betty is saving money for a new wallet which c...   \n",
       "3  Julie is reading a 120-page book. Yesterday, s...   \n",
       "4  James writes a 3-page letter to 2 different fr...   \n",
       "\n",
       "                                              answer  \n",
       "0  Natalia sold 48/2 = <<48/2=24>>24 clips in May...  \n",
       "1  Weng earns 12/60 = $<<12/60=0.2>>0.2 per minut...  \n",
       "2  In the beginning, Betty has only 100 / 2 = $<<...  \n",
       "3  Maila read 12 x 2 = <<12*2=24>>24 pages today....  \n",
       "4  He writes each friend 3*2=<<3*2=6>>6 pages a w...  "
      ]
     },
     "execution_count": 107,
     "metadata": {},
     "output_type": "execute_result"
    }
   ],
   "source": [
    "df.head()"
   ]
  },
  {
   "cell_type": "code",
   "execution_count": 108,
   "metadata": {},
   "outputs": [],
   "source": [
    "df = df.rename(columns={'question': 'source_text'})\n",
    "df = df.rename(columns={'answer': 'target_text'})"
   ]
  },
  {
   "cell_type": "code",
   "execution_count": 109,
   "metadata": {},
   "outputs": [],
   "source": [
    "df['id'] = range(1, len(df) + 1)\n",
    "cols = ['id'] + [col for col in df.columns if col != 'id']\n",
    "df = df[cols]"
   ]
  },
  {
   "cell_type": "code",
   "execution_count": 110,
   "metadata": {},
   "outputs": [],
   "source": [
    "df['reference'] = df['target_text'].apply(lambda x: x.split('\\n')[-1][5:])"
   ]
  },
  {
   "cell_type": "code",
   "execution_count": 111,
   "metadata": {},
   "outputs": [
    {
     "data": {
      "text/html": [
       "<div>\n",
       "<style scoped>\n",
       "    .dataframe tbody tr th:only-of-type {\n",
       "        vertical-align: middle;\n",
       "    }\n",
       "\n",
       "    .dataframe tbody tr th {\n",
       "        vertical-align: top;\n",
       "    }\n",
       "\n",
       "    .dataframe thead th {\n",
       "        text-align: right;\n",
       "    }\n",
       "</style>\n",
       "<table border=\"1\" class=\"dataframe\">\n",
       "  <thead>\n",
       "    <tr style=\"text-align: right;\">\n",
       "      <th></th>\n",
       "      <th>id</th>\n",
       "      <th>source_text</th>\n",
       "      <th>target_text</th>\n",
       "      <th>reference</th>\n",
       "    </tr>\n",
       "  </thead>\n",
       "  <tbody>\n",
       "    <tr>\n",
       "      <th>0</th>\n",
       "      <td>1</td>\n",
       "      <td>Natalia sold clips to 48 of her friends in Apr...</td>\n",
       "      <td>Natalia sold 48/2 = &lt;&lt;48/2=24&gt;&gt;24 clips in May...</td>\n",
       "      <td>72</td>\n",
       "    </tr>\n",
       "    <tr>\n",
       "      <th>1</th>\n",
       "      <td>2</td>\n",
       "      <td>Weng earns $12 an hour for babysitting. Yester...</td>\n",
       "      <td>Weng earns 12/60 = $&lt;&lt;12/60=0.2&gt;&gt;0.2 per minut...</td>\n",
       "      <td>10</td>\n",
       "    </tr>\n",
       "    <tr>\n",
       "      <th>2</th>\n",
       "      <td>3</td>\n",
       "      <td>Betty is saving money for a new wallet which c...</td>\n",
       "      <td>In the beginning, Betty has only 100 / 2 = $&lt;&lt;...</td>\n",
       "      <td>5</td>\n",
       "    </tr>\n",
       "    <tr>\n",
       "      <th>3</th>\n",
       "      <td>4</td>\n",
       "      <td>Julie is reading a 120-page book. Yesterday, s...</td>\n",
       "      <td>Maila read 12 x 2 = &lt;&lt;12*2=24&gt;&gt;24 pages today....</td>\n",
       "      <td>42</td>\n",
       "    </tr>\n",
       "    <tr>\n",
       "      <th>4</th>\n",
       "      <td>5</td>\n",
       "      <td>James writes a 3-page letter to 2 different fr...</td>\n",
       "      <td>He writes each friend 3*2=&lt;&lt;3*2=6&gt;&gt;6 pages a w...</td>\n",
       "      <td>624</td>\n",
       "    </tr>\n",
       "  </tbody>\n",
       "</table>\n",
       "</div>"
      ],
      "text/plain": [
       "   id                                        source_text  \\\n",
       "0   1  Natalia sold clips to 48 of her friends in Apr...   \n",
       "1   2  Weng earns $12 an hour for babysitting. Yester...   \n",
       "2   3  Betty is saving money for a new wallet which c...   \n",
       "3   4  Julie is reading a 120-page book. Yesterday, s...   \n",
       "4   5  James writes a 3-page letter to 2 different fr...   \n",
       "\n",
       "                                         target_text reference  \n",
       "0  Natalia sold 48/2 = <<48/2=24>>24 clips in May...        72  \n",
       "1  Weng earns 12/60 = $<<12/60=0.2>>0.2 per minut...        10  \n",
       "2  In the beginning, Betty has only 100 / 2 = $<<...         5  \n",
       "3  Maila read 12 x 2 = <<12*2=24>>24 pages today....        42  \n",
       "4  He writes each friend 3*2=<<3*2=6>>6 pages a w...       624  "
      ]
     },
     "execution_count": 111,
     "metadata": {},
     "output_type": "execute_result"
    }
   ],
   "source": [
    "df.head()"
   ]
  },
  {
   "cell_type": "code",
   "execution_count": 112,
   "metadata": {},
   "outputs": [],
   "source": [
    "def filter_text(text):\n",
    "    if len(text.split()) > 30: \n",
    "        return False\n",
    "    if not text or not isinstance(text, str):\n",
    "        return False\n",
    "    if re.search(r'http[s]?://\\S+', text) or re.search(r'\\S+@\\S+', text):\n",
    "        return False\n",
    "    if re.search(r'[\\x00-\\x1F\\x7F]+', text):\n",
    "        return False\n",
    "    if re.search(r'[!\\\"#$%&\\'()*+,-./:;<=>?@[\\\\]^_`{|}~]{2,}', text):\n",
    "        return False\n",
    "    if re.search(r'[\\$:]', text):\n",
    "        return False\n",
    "    if re.search(r'[+\\-*/^=()]', text):\n",
    "        return False\n",
    "    if re.search(r'\\b\\d*(?:\\.\\d+)?(ml|cm|kg|m|mg|mm|dm|min|g|l|km|m²|s|h)\\b', text):\n",
    "        return False\n",
    "    if re.search(r'[\\u00BC-\\u00BE\\u2150-\\u218F√±×÷]', text):\n",
    "        return False\n",
    "    if re.search(r'[¼½¾⅓⅔⅕⅖⅗⅘⅙⅚⅛⅑⅒√±×÷]', text):\n",
    "        return False\n",
    "    return True"
   ]
  },
  {
   "cell_type": "code",
   "execution_count": 113,
   "metadata": {},
   "outputs": [],
   "source": [
    "df_filtered = df[df['source_text'].apply(filter_text)]"
   ]
  },
  {
   "cell_type": "code",
   "execution_count": 114,
   "metadata": {},
   "outputs": [
    {
     "data": {
      "text/plain": [
       "887"
      ]
     },
     "execution_count": 114,
     "metadata": {},
     "output_type": "execute_result"
    }
   ],
   "source": [
    "df_filtered.loc[:, 'id'] = range(1, len(df_filtered) + 1)\n",
    "len(df_filtered)"
   ]
  },
  {
   "cell_type": "code",
   "execution_count": 115,
   "metadata": {},
   "outputs": [],
   "source": [
    "df_filtered.to_json('/data/ruiqi.yan/data/reasoning/gsm8k/test.jsonl', orient='records', lines=True, force_ascii=False)"
   ]
  },
  {
   "cell_type": "code",
   "execution_count": null,
   "metadata": {},
   "outputs": [],
   "source": []
  }
 ],
 "metadata": {
  "kernelspec": {
   "display_name": "yrq-omni",
   "language": "python",
   "name": "python3"
  },
  "language_info": {
   "codemirror_mode": {
    "name": "ipython",
    "version": 3
   },
   "file_extension": ".py",
   "mimetype": "text/x-python",
   "name": "python",
   "nbconvert_exporter": "python",
   "pygments_lexer": "ipython3",
   "version": "3.11.10"
  }
 },
 "nbformat": 4,
 "nbformat_minor": 2
}
