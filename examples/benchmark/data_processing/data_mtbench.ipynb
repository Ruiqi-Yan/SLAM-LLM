{
 "cells": [
  {
   "cell_type": "code",
   "execution_count": 1,
   "metadata": {},
   "outputs": [],
   "source": [
    "import pandas as pd\n",
    "import re\n",
    "from pydub.utils import mediainfo\n",
    "import os\n",
    "import jsonlines"
   ]
  },
  {
   "cell_type": "code",
   "execution_count": 2,
   "metadata": {},
   "outputs": [],
   "source": [
    "origin = []\n",
    "data = []\n",
    "with open(\"/data/ruiqi.yan/data/speaking/mt-bench-101/data/subjective/mtbench101.jsonl\", 'r') as f:\n",
    "    for line in jsonlines.Reader(f):\n",
    "        origin.append(line)"
   ]
  },
  {
   "cell_type": "code",
   "execution_count": 3,
   "metadata": {},
   "outputs": [
    {
     "data": {
      "text/plain": [
       "[{'user': 'Now there are three people A, B and C. I currently know that A is taller than B and B is taller than C. Who is the tallest currently?',\n",
       "  'bot': 'Based on the given information, A is the tallest among the three people.'},\n",
       " {'user': 'Now there are two more people, D and E. D is higher than B and E is higher than D. Who is the tallest at the moment?',\n",
       "  'bot': 'Based on the additional information, it is not possible to determine who the tallest person is at the moment. The given information only states the relative heights between the individuals but does not provide any specific comparison between A, C, D, and E.'},\n",
       " {'user': 'Now, I know that D is higher than A. Who is the highest now?',\n",
       "  'bot': 'Based on the updated information, if D is higher than A and A is already known to be taller than B and B is taller than C, E is higher than D. then E would be the tallest person at the moment.'}]"
      ]
     },
     "execution_count": 3,
     "metadata": {},
     "output_type": "execute_result"
    }
   ],
   "source": [
    "origin[0]['history']"
   ]
  },
  {
   "cell_type": "code",
   "execution_count": 12,
   "metadata": {},
   "outputs": [
    {
     "data": {
      "text/plain": [
       "{'0': 0,\n",
       " '1': 0,\n",
       " '2': 459,\n",
       " '3': 554,\n",
       " '4': 259,\n",
       " '5': 107,\n",
       " '6': 6,\n",
       " '7': 3,\n",
       " '8': 0,\n",
       " '9': 0}"
      ]
     },
     "execution_count": 12,
     "metadata": {},
     "output_type": "execute_result"
    }
   ],
   "source": [
    "turn = dict()\n",
    "for i in range(10):\n",
    "    turn[str(i)] = 0\n",
    "for item in origin:\n",
    "    turn[str(len(item['history']))] += 1\n",
    "turn"
   ]
  },
  {
   "cell_type": "code",
   "execution_count": 20,
   "metadata": {},
   "outputs": [
    {
     "data": {
      "text/plain": [
       "306"
      ]
     },
     "execution_count": 20,
     "metadata": {},
     "output_type": "execute_result"
    }
   ],
   "source": [
    "n = 0\n",
    "for item in origin:\n",
    "    m = 0\n",
    "    for history in item['history']:\n",
    "        m = max(m, len(history['user']))\n",
    "    if m < 60 and len(item['history']) <= 5:\n",
    "        n += 1\n",
    "n"
   ]
  },
  {
   "cell_type": "code",
   "execution_count": 21,
   "metadata": {},
   "outputs": [],
   "source": [
    "n = 0\n",
    "for item in origin:\n",
    "    m = 0\n",
    "    for history in item['history']:\n",
    "        m = max(m, len(history['user']))\n",
    "    if m < 60 and len(item['history']) <= 5:\n",
    "        n += 1\n",
    "        source = []\n",
    "        target = []\n",
    "        for history in item['history']:\n",
    "            source.append(history['user'])\n",
    "            target.append(history['bot'])\n",
    "        new = {\"id\": n,\n",
    "                \"turn\": len(item['history']),\n",
    "                \"source_text\": source,\n",
    "                \"target_text\": target}\n",
    "        data.append(new)"
   ]
  },
  {
   "cell_type": "code",
   "execution_count": 22,
   "metadata": {},
   "outputs": [],
   "source": [
    "with jsonlines.open(\"/data/ruiqi.yan/data/speaking/mt-bench-101/mt_test.jsonl\", mode='w') as writer:\n",
    "    for item in data:\n",
    "        writer.write(item)"
   ]
  },
  {
   "cell_type": "code",
   "execution_count": null,
   "metadata": {},
   "outputs": [],
   "source": []
  }
 ],
 "metadata": {
  "kernelspec": {
   "display_name": "yrq-omni",
   "language": "python",
   "name": "python3"
  },
  "language_info": {
   "codemirror_mode": {
    "name": "ipython",
    "version": 3
   },
   "file_extension": ".py",
   "mimetype": "text/x-python",
   "name": "python",
   "nbconvert_exporter": "python",
   "pygments_lexer": "ipython3",
   "version": "3.11.10"
  }
 },
 "nbformat": 4,
 "nbformat_minor": 2
}
