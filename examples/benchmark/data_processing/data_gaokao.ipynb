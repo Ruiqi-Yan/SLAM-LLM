{
 "cells": [
  {
   "cell_type": "code",
   "execution_count": 1,
   "metadata": {},
   "outputs": [],
   "source": [
    "import pandas as pd\n",
    "import re\n",
    "from pydub.utils import mediainfo\n",
    "import os\n",
    "import jsonlines"
   ]
  },
  {
   "cell_type": "code",
   "execution_count": 2,
   "metadata": {},
   "outputs": [],
   "source": [
    "df = pd.read_csv('/data/ruiqi.yan/data/understanding/gk_listening/gaokao.tsv', sep='\\t')"
   ]
  },
  {
   "cell_type": "code",
   "execution_count": 3,
   "metadata": {},
   "outputs": [],
   "source": [
    "df_filtered = df[df['with_speech'] == True]"
   ]
  },
  {
   "cell_type": "code",
   "execution_count": 4,
   "metadata": {},
   "outputs": [],
   "source": [
    "df_filtered['id_number'] = df_filtered['id'].str.extract(r'short_conv_(\\d+)').astype(int)"
   ]
  },
  {
   "cell_type": "code",
   "execution_count": 5,
   "metadata": {},
   "outputs": [],
   "source": [
    "df_sorted = df_filtered.sort_values(by='id_number')"
   ]
  },
  {
   "cell_type": "code",
   "execution_count": 6,
   "metadata": {},
   "outputs": [
    {
     "data": {
      "text/html": [
       "<div>\n",
       "<style scoped>\n",
       "    .dataframe tbody tr th:only-of-type {\n",
       "        vertical-align: middle;\n",
       "    }\n",
       "\n",
       "    .dataframe tbody tr th {\n",
       "        vertical-align: top;\n",
       "    }\n",
       "\n",
       "    .dataframe thead th {\n",
       "        text-align: right;\n",
       "    }\n",
       "</style>\n",
       "<table border=\"1\" class=\"dataframe\">\n",
       "  <thead>\n",
       "    <tr style=\"text-align: right;\">\n",
       "      <th></th>\n",
       "      <th>id</th>\n",
       "      <th>audio</th>\n",
       "      <th>n_frames</th>\n",
       "      <th>prompt</th>\n",
       "      <th>tgt_text</th>\n",
       "      <th>with_speech</th>\n",
       "      <th>id_number</th>\n",
       "    </tr>\n",
       "  </thead>\n",
       "  <tbody>\n",
       "    <tr>\n",
       "      <th>0</th>\n",
       "      <td>short_conv_1</td>\n",
       "      <td>gaokao_audio/short_conv_1.wav</td>\n",
       "      <td>111111</td>\n",
       "      <td>What will the man do next? A. Start to take ex...</td>\n",
       "      <td>A</td>\n",
       "      <td>True</td>\n",
       "      <td>1</td>\n",
       "    </tr>\n",
       "    <tr>\n",
       "      <th>1111</th>\n",
       "      <td>short_conv_2</td>\n",
       "      <td>gaokao_audio/short_conv_2.wav</td>\n",
       "      <td>111111</td>\n",
       "      <td>What does the man come for? A. To say goodbye;...</td>\n",
       "      <td>A</td>\n",
       "      <td>True</td>\n",
       "      <td>2</td>\n",
       "    </tr>\n",
       "    <tr>\n",
       "      <th>1223</th>\n",
       "      <td>short_conv_3</td>\n",
       "      <td>gaokao_audio/short_conv_3.wav</td>\n",
       "      <td>111111</td>\n",
       "      <td>Where does the talk take place? A. At the woma...</td>\n",
       "      <td>B</td>\n",
       "      <td>True</td>\n",
       "      <td>3</td>\n",
       "    </tr>\n",
       "    <tr>\n",
       "      <th>1334</th>\n",
       "      <td>short_conv_4</td>\n",
       "      <td>gaokao_audio/short_conv_4.wav</td>\n",
       "      <td>111111</td>\n",
       "      <td>What’s the time now in New York? A. 5 p.m; B. ...</td>\n",
       "      <td>B</td>\n",
       "      <td>True</td>\n",
       "      <td>4</td>\n",
       "    </tr>\n",
       "    <tr>\n",
       "      <th>1445</th>\n",
       "      <td>short_conv_5</td>\n",
       "      <td>gaokao_audio/short_conv_5.wav</td>\n",
       "      <td>111111</td>\n",
       "      <td>Why doesn’t the woman learn drawing? A. She’s ...</td>\n",
       "      <td>C</td>\n",
       "      <td>True</td>\n",
       "      <td>5</td>\n",
       "    </tr>\n",
       "  </tbody>\n",
       "</table>\n",
       "</div>"
      ],
      "text/plain": [
       "                id                          audio  n_frames  \\\n",
       "0     short_conv_1  gaokao_audio/short_conv_1.wav    111111   \n",
       "1111  short_conv_2  gaokao_audio/short_conv_2.wav    111111   \n",
       "1223  short_conv_3  gaokao_audio/short_conv_3.wav    111111   \n",
       "1334  short_conv_4  gaokao_audio/short_conv_4.wav    111111   \n",
       "1445  short_conv_5  gaokao_audio/short_conv_5.wav    111111   \n",
       "\n",
       "                                                 prompt tgt_text  with_speech  \\\n",
       "0     What will the man do next? A. Start to take ex...        A         True   \n",
       "1111  What does the man come for? A. To say goodbye;...        A         True   \n",
       "1223  Where does the talk take place? A. At the woma...        B         True   \n",
       "1334  What’s the time now in New York? A. 5 p.m; B. ...        B         True   \n",
       "1445  Why doesn’t the woman learn drawing? A. She’s ...        C         True   \n",
       "\n",
       "      id_number  \n",
       "0             1  \n",
       "1111          2  \n",
       "1223          3  \n",
       "1334          4  \n",
       "1445          5  "
      ]
     },
     "execution_count": 6,
     "metadata": {},
     "output_type": "execute_result"
    }
   ],
   "source": [
    "df_sorted.head()"
   ]
  },
  {
   "cell_type": "code",
   "execution_count": 7,
   "metadata": {},
   "outputs": [],
   "source": [
    "df_sorted = df_sorted.drop(columns=['id'])\n",
    "df_sorted = df_sorted.drop(columns=['n_frames'])\n",
    "df_sorted = df_sorted.drop(columns=['with_speech'])"
   ]
  },
  {
   "cell_type": "code",
   "execution_count": 8,
   "metadata": {},
   "outputs": [],
   "source": [
    "df_sorted = df_sorted.rename(columns={'id_number': 'id'})\n",
    "df_sorted = df_sorted.rename(columns={'audio': 'source_wav'})\n",
    "df_sorted = df_sorted.rename(columns={'prompt': 'source_text'})\n",
    "df_sorted = df_sorted.rename(columns={'tgt_text': 'target_text'})"
   ]
  },
  {
   "cell_type": "code",
   "execution_count": 9,
   "metadata": {},
   "outputs": [],
   "source": [
    "cols = ['id'] + [col for col in df_sorted.columns if col != 'id']\n",
    "df_sorted = df_sorted[cols]"
   ]
  },
  {
   "cell_type": "code",
   "execution_count": 10,
   "metadata": {},
   "outputs": [
    {
     "data": {
      "text/html": [
       "<div>\n",
       "<style scoped>\n",
       "    .dataframe tbody tr th:only-of-type {\n",
       "        vertical-align: middle;\n",
       "    }\n",
       "\n",
       "    .dataframe tbody tr th {\n",
       "        vertical-align: top;\n",
       "    }\n",
       "\n",
       "    .dataframe thead th {\n",
       "        text-align: right;\n",
       "    }\n",
       "</style>\n",
       "<table border=\"1\" class=\"dataframe\">\n",
       "  <thead>\n",
       "    <tr style=\"text-align: right;\">\n",
       "      <th></th>\n",
       "      <th>id</th>\n",
       "      <th>source_wav</th>\n",
       "      <th>source_text</th>\n",
       "      <th>target_text</th>\n",
       "    </tr>\n",
       "  </thead>\n",
       "  <tbody>\n",
       "    <tr>\n",
       "      <th>0</th>\n",
       "      <td>1</td>\n",
       "      <td>gaokao_audio/short_conv_1.wav</td>\n",
       "      <td>What will the man do next? A. Start to take ex...</td>\n",
       "      <td>A</td>\n",
       "    </tr>\n",
       "    <tr>\n",
       "      <th>1111</th>\n",
       "      <td>2</td>\n",
       "      <td>gaokao_audio/short_conv_2.wav</td>\n",
       "      <td>What does the man come for? A. To say goodbye;...</td>\n",
       "      <td>A</td>\n",
       "    </tr>\n",
       "    <tr>\n",
       "      <th>1223</th>\n",
       "      <td>3</td>\n",
       "      <td>gaokao_audio/short_conv_3.wav</td>\n",
       "      <td>Where does the talk take place? A. At the woma...</td>\n",
       "      <td>B</td>\n",
       "    </tr>\n",
       "    <tr>\n",
       "      <th>1334</th>\n",
       "      <td>4</td>\n",
       "      <td>gaokao_audio/short_conv_4.wav</td>\n",
       "      <td>What’s the time now in New York? A. 5 p.m; B. ...</td>\n",
       "      <td>B</td>\n",
       "    </tr>\n",
       "    <tr>\n",
       "      <th>1445</th>\n",
       "      <td>5</td>\n",
       "      <td>gaokao_audio/short_conv_5.wav</td>\n",
       "      <td>Why doesn’t the woman learn drawing? A. She’s ...</td>\n",
       "      <td>C</td>\n",
       "    </tr>\n",
       "  </tbody>\n",
       "</table>\n",
       "</div>"
      ],
      "text/plain": [
       "      id                     source_wav  \\\n",
       "0      1  gaokao_audio/short_conv_1.wav   \n",
       "1111   2  gaokao_audio/short_conv_2.wav   \n",
       "1223   3  gaokao_audio/short_conv_3.wav   \n",
       "1334   4  gaokao_audio/short_conv_4.wav   \n",
       "1445   5  gaokao_audio/short_conv_5.wav   \n",
       "\n",
       "                                            source_text target_text  \n",
       "0     What will the man do next? A. Start to take ex...           A  \n",
       "1111  What does the man come for? A. To say goodbye;...           A  \n",
       "1223  Where does the talk take place? A. At the woma...           B  \n",
       "1334  What’s the time now in New York? A. 5 p.m; B. ...           B  \n",
       "1445  Why doesn’t the woman learn drawing? A. She’s ...           C  "
      ]
     },
     "execution_count": 10,
     "metadata": {},
     "output_type": "execute_result"
    }
   ],
   "source": [
    "df_sorted.head()"
   ]
  },
  {
   "cell_type": "code",
   "execution_count": 11,
   "metadata": {},
   "outputs": [],
   "source": [
    "def filter_text(text):\n",
    "    if len(text.split()) > 20: \n",
    "        return False\n",
    "    if not text or not isinstance(text, str):\n",
    "        return False\n",
    "    if re.search(r'http[s]?://\\S+', text) or re.search(r'\\S+@\\S+', text):\n",
    "        return False\n",
    "    if re.search(r'[\\x00-\\x1F\\x7F]+', text):\n",
    "        return False\n",
    "    if re.search(r'[!\\\"#$%&\\'()*+,-./:;<=>?@[\\\\]^_`{|}~]{2,}', text):\n",
    "        return False\n",
    "    if re.search(r'[\\$:]', text):\n",
    "        return False\n",
    "    return True"
   ]
  },
  {
   "cell_type": "code",
   "execution_count": 12,
   "metadata": {},
   "outputs": [],
   "source": [
    "df_filtered = df_sorted[df_sorted['source_text'].apply(filter_text)]"
   ]
  },
  {
   "cell_type": "code",
   "execution_count": 13,
   "metadata": {},
   "outputs": [],
   "source": [
    "def get_audio_duration(path):\n",
    "    file_path = os.path.join(\"/data/ruiqi.yan/data/understanding/gk_listening\", path)\n",
    "    audio_info = mediainfo(file_path)\n",
    "    duration = float(audio_info['duration'])  \n",
    "    return duration"
   ]
  },
  {
   "cell_type": "code",
   "execution_count": 14,
   "metadata": {},
   "outputs": [],
   "source": [
    "df_filtered = df_filtered[df_filtered['source_wav'].apply(lambda x: get_audio_duration(x) <= 15)]"
   ]
  },
  {
   "cell_type": "code",
   "execution_count": 15,
   "metadata": {},
   "outputs": [],
   "source": [
    "def modify_source_text(text):\n",
    "    return \"According to the conversation, \" + text[0].lower() + text[1:]"
   ]
  },
  {
   "cell_type": "code",
   "execution_count": 16,
   "metadata": {},
   "outputs": [],
   "source": [
    "df_filtered['source_text'] = df_filtered['source_text'].apply(modify_source_text)"
   ]
  },
  {
   "cell_type": "code",
   "execution_count": 17,
   "metadata": {},
   "outputs": [],
   "source": [
    "df_filtered.to_json('/data/ruiqi.yan/data/understanding/gk_listening/gk_test.jsonl', orient='records', lines=True, force_ascii=False)"
   ]
  },
  {
   "cell_type": "code",
   "execution_count": 18,
   "metadata": {},
   "outputs": [
    {
     "data": {
      "text/plain": [
       "330"
      ]
     },
     "execution_count": 18,
     "metadata": {},
     "output_type": "execute_result"
    }
   ],
   "source": [
    "len(df_filtered)"
   ]
  },
  {
   "cell_type": "code",
   "execution_count": 51,
   "metadata": {},
   "outputs": [],
   "source": [
    "import jsonlines\n",
    "import whisper\n",
    "from fuzzywuzzy import fuzz\n",
    "import os\n",
    "import torch\n",
    "from transformers import AutoModelForSpeechSeq2Seq, AutoProcessor, pipeline\n",
    "from tqdm import tqdm\n",
    "import logging\n",
    "!export CUDA_VISIBLE_DEVICES=2"
   ]
  },
  {
   "cell_type": "code",
   "execution_count": 52,
   "metadata": {},
   "outputs": [],
   "source": [
    "def read_jsonl(file_path):\n",
    "    data = []\n",
    "    with open(file_path, 'r', encoding='utf-8') as f:\n",
    "        for line in jsonlines.Reader(f):\n",
    "            data.append(line)\n",
    "    return data"
   ]
  },
  {
   "cell_type": "code",
   "execution_count": 53,
   "metadata": {},
   "outputs": [],
   "source": [
    "def set_whisper(model_dir):\n",
    "    device = \"cuda:2\" if torch.cuda.is_available() else \"cpu\"\n",
    "    torch_dtype = torch.float16 if torch.cuda.is_available() else torch.float32\n",
    "\n",
    "    model = AutoModelForSpeechSeq2Seq.from_pretrained(\n",
    "        model_dir, torch_dtype=torch_dtype, low_cpu_mem_usage=True, use_safetensors=True\n",
    "    )\n",
    "    model.to(device)\n",
    "\n",
    "    processor = AutoProcessor.from_pretrained(model_dir)\n",
    "\n",
    "    pipe = pipeline(\n",
    "        \"automatic-speech-recognition\",\n",
    "        model=model,\n",
    "        tokenizer=processor.tokenizer,\n",
    "        feature_extractor=processor.feature_extractor,\n",
    "        torch_dtype=torch_dtype,\n",
    "        device=device,\n",
    "    )\n",
    "    return pipe"
   ]
  },
  {
   "cell_type": "code",
   "execution_count": 54,
   "metadata": {},
   "outputs": [],
   "source": [
    "def transcribe_audio(audio_path, pipe):\n",
    "    result = pipe([audio_path], batch_size=1)\n",
    "    return result[0]['text']"
   ]
  },
  {
   "cell_type": "code",
   "execution_count": 55,
   "metadata": {},
   "outputs": [],
   "source": [
    "def get_text_similarity(original_text, transcribed_text):\n",
    "    return fuzz.ratio(original_text.lower(), transcribed_text.lower())"
   ]
  },
  {
   "cell_type": "code",
   "execution_count": 56,
   "metadata": {},
   "outputs": [],
   "source": [
    "def filter_inaccurate_data(data, threshold=95):\n",
    "    filtered_data = []\n",
    "    pipe = set_whisper(\"/data/ruiqi.yan/models/whisper-large-v3/\")\n",
    "    for item in tqdm(data):\n",
    "        source_wav = os.path.join(\"/data/ruiqi.yan/data/understanding/gk_listening/gaokao_random/\", str(item['id']) + \".wav\")\n",
    "        source_text = item['source_text']\n",
    "\n",
    "        if os.path.exists(source_wav):\n",
    "            transcribed_text = transcribe_audio(source_wav, pipe)\n",
    "            similarity = get_text_similarity(source_text, transcribed_text)\n",
    "            \n",
    "            if similarity >= threshold:\n",
    "                filtered_data.append(item)\n",
    "        else:\n",
    "            print(f\"Warning: Audio file {str(item['id'])}.wav does not exist.\")\n",
    "    \n",
    "    return filtered_data"
   ]
  },
  {
   "cell_type": "code",
   "execution_count": 57,
   "metadata": {},
   "outputs": [],
   "source": [
    "def main(input_file, similarity_threshold=95):\n",
    "    data = read_jsonl(input_file)\n",
    "    filtered_data = filter_inaccurate_data(data, threshold=similarity_threshold)\n",
    "    return filtered_data"
   ]
  },
  {
   "cell_type": "code",
   "execution_count": 58,
   "metadata": {},
   "outputs": [
    {
     "name": "stderr",
     "output_type": "stream",
     "text": [
      "Special tokens have been added in the vocabulary, make sure the associated word embeddings are fine-tuned or trained.\n",
      "  0%|          | 0/330 [00:00<?, ?it/s]"
     ]
    },
    {
     "name": "stdout",
     "output_type": "stream",
     "text": [
      "Warning: Audio file 2.wav does not exist.\n"
     ]
    },
    {
     "name": "stderr",
     "output_type": "stream",
     "text": [
      "100%|██████████| 330/330 [03:00<00:00,  1.83it/s]\n"
     ]
    }
   ],
   "source": [
    "filtered_data = main(\"/data/ruiqi.yan/data/understanding/gk_listening/gk_test.jsonl\", similarity_threshold=95)"
   ]
  },
  {
   "cell_type": "code",
   "execution_count": 59,
   "metadata": {},
   "outputs": [
    {
     "data": {
      "text/plain": [
       "181"
      ]
     },
     "execution_count": 59,
     "metadata": {},
     "output_type": "execute_result"
    }
   ],
   "source": [
    "len(filtered_data)"
   ]
  },
  {
   "cell_type": "code",
   "execution_count": 60,
   "metadata": {},
   "outputs": [],
   "source": [
    "with jsonlines.open(\"/data/ruiqi.yan/data/understanding/gk_listening/gk_test_new.jsonl\", mode='w') as writer:\n",
    "    for item in filtered_data:\n",
    "        writer.write(item)"
   ]
  },
  {
   "cell_type": "code",
   "execution_count": 2,
   "metadata": {},
   "outputs": [],
   "source": [
    "origin = []\n",
    "data = []\n",
    "with open(\"/data/ruiqi.yan/data/understanding/gk_listening/gk_test.jsonl\", 'r', encoding='utf-8') as f:\n",
    "    for line in jsonlines.Reader(f):\n",
    "        origin.append(line)"
   ]
  },
  {
   "cell_type": "code",
   "execution_count": 3,
   "metadata": {},
   "outputs": [],
   "source": [
    "for item in origin:\n",
    "    item['source_text'] = item['source_text'].replace(\" A. \", \" ;AY; \")\n",
    "    data.append(item)"
   ]
  },
  {
   "cell_type": "code",
   "execution_count": 4,
   "metadata": {},
   "outputs": [],
   "source": [
    "with jsonlines.open(\"/data/ruiqi.yan/data/understanding/gk_listening/gk_test_tts.jsonl\", mode='w') as writer:\n",
    "    for item in data:\n",
    "        writer.write(item)"
   ]
  },
  {
   "cell_type": "code",
   "execution_count": null,
   "metadata": {},
   "outputs": [],
   "source": []
  }
 ],
 "metadata": {
  "kernelspec": {
   "display_name": "yrq-omni",
   "language": "python",
   "name": "python3"
  },
  "language_info": {
   "codemirror_mode": {
    "name": "ipython",
    "version": 3
   },
   "file_extension": ".py",
   "mimetype": "text/x-python",
   "name": "python",
   "nbconvert_exporter": "python",
   "pygments_lexer": "ipython3",
   "version": "3.11.10"
  }
 },
 "nbformat": 4,
 "nbformat_minor": 2
}
