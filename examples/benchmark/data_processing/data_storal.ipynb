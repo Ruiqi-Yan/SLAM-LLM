{
 "cells": [
  {
   "cell_type": "code",
   "execution_count": 31,
   "metadata": {},
   "outputs": [],
   "source": [
    "import pandas as pd\n",
    "import re\n",
    "from pydub.utils import mediainfo\n",
    "import os\n",
    "import jsonlines"
   ]
  },
  {
   "cell_type": "code",
   "execution_count": 32,
   "metadata": {},
   "outputs": [],
   "source": [
    "origin = []\n",
    "data = []\n",
    "with open(\"/data/ruiqi.yan/data/reasoning/STORAL/mocpt_data_en/train.json\", 'r') as f1:\n",
    "    for line in jsonlines.Reader(f1):\n",
    "        origin.append(line)\n",
    "with open(\"/data/ruiqi.yan/data/reasoning/STORAL/mocpt_data_en/test.json\", 'r') as f2:\n",
    "    for line in jsonlines.Reader(f2):\n",
    "        origin.append(line)\n",
    "with open(\"/data/ruiqi.yan/data/reasoning/STORAL/mocpt_data_en/valid.json\", 'r') as f3:\n",
    "    for line in jsonlines.Reader(f3):\n",
    "        origin.append(line)"
   ]
  },
  {
   "cell_type": "code",
   "execution_count": 33,
   "metadata": {},
   "outputs": [
    {
     "data": {
      "text/plain": [
       "1779"
      ]
     },
     "execution_count": 33,
     "metadata": {},
     "output_type": "execute_result"
    }
   ],
   "source": [
    "len(origin)"
   ]
  },
  {
   "cell_type": "code",
   "execution_count": 34,
   "metadata": {},
   "outputs": [
    {
     "data": {
      "text/plain": [
       "238"
      ]
     },
     "execution_count": 34,
     "metadata": {},
     "output_type": "execute_result"
    }
   ],
   "source": [
    "n = 0\n",
    "for i, item in enumerate(origin):\n",
    "    if len(item['story'].split()) < 80:\n",
    "        n += 1\n",
    "n"
   ]
  },
  {
   "cell_type": "code",
   "execution_count": 35,
   "metadata": {},
   "outputs": [],
   "source": [
    "n = 0\n",
    "for item in origin:\n",
    "    if len(item['story'].split()) < 80:\n",
    "        n += 1\n",
    "        new = {\"id\": n,\n",
    "                \"source_text\": \"Here’s a short fable: \" + item['story'].strip() + \" What is the moral of this story?\",\n",
    "                \"target_text\": [item['moral1'].strip(), item['moral2'].strip(), item['moral3'].strip(), item['moral4'].strip(), item['moral5'].strip()]}\n",
    "        data.append(new)"
   ]
  },
  {
   "cell_type": "code",
   "execution_count": 36,
   "metadata": {},
   "outputs": [],
   "source": [
    "with jsonlines.open(\"/data/ruiqi.yan/data/reasoning/STORAL/storal_test.jsonl\", mode='w') as writer:\n",
    "    for item in data:\n",
    "        writer.write(item)"
   ]
  },
  {
   "cell_type": "code",
   "execution_count": null,
   "metadata": {},
   "outputs": [],
   "source": []
  }
 ],
 "metadata": {
  "kernelspec": {
   "display_name": "yrq-omni",
   "language": "python",
   "name": "python3"
  },
  "language_info": {
   "codemirror_mode": {
    "name": "ipython",
    "version": 3
   },
   "file_extension": ".py",
   "mimetype": "text/x-python",
   "name": "python",
   "nbconvert_exporter": "python",
   "pygments_lexer": "ipython3",
   "version": "3.11.10"
  }
 },
 "nbformat": 4,
 "nbformat_minor": 2
}
