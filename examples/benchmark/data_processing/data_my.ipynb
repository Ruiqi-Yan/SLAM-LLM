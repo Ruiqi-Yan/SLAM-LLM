{
 "cells": [
  {
   "cell_type": "code",
   "execution_count": 2,
   "metadata": {},
   "outputs": [],
   "source": [
    "import pandas as pd\n",
    "import re\n",
    "from pydub.utils import mediainfo\n",
    "import os\n",
    "import jsonlines"
   ]
  },
  {
   "cell_type": "code",
   "execution_count": 5,
   "metadata": {},
   "outputs": [],
   "source": [
    "origin = []\n",
    "data = []\n",
    "with open(\"/data/ruiqi.yan/data/understanding/summary/test.jsonl\", 'r') as f:\n",
    "    for line in jsonlines.Reader(f):\n",
    "        origin.append(line)\n",
    "\n",
    "for i, item in enumerate(origin):\n",
    "    new = {\"id\": i + 1, \"source_text\": item['prompt'], \"target_text\": item['summary']}\n",
    "    data.append(new)\n",
    "\n",
    "with jsonlines.open(\"/data/ruiqi.yan/data/understanding/summary/summary_test.jsonl\", mode='w') as writer:\n",
    "    for item in data:\n",
    "        writer.write(item)"
   ]
  },
  {
   "cell_type": "code",
   "execution_count": null,
   "metadata": {},
   "outputs": [],
   "source": []
  }
 ],
 "metadata": {
  "kernelspec": {
   "display_name": "yrq-omni",
   "language": "python",
   "name": "python3"
  },
  "language_info": {
   "codemirror_mode": {
    "name": "ipython",
    "version": 3
   },
   "file_extension": ".py",
   "mimetype": "text/x-python",
   "name": "python",
   "nbconvert_exporter": "python",
   "pygments_lexer": "ipython3",
   "version": "3.11.10"
  }
 },
 "nbformat": 4,
 "nbformat_minor": 2
}
