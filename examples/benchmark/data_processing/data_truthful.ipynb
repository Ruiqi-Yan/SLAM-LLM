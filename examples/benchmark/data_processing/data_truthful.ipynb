{
 "cells": [
  {
   "cell_type": "code",
   "execution_count": 22,
   "metadata": {},
   "outputs": [],
   "source": [
    "import pandas as pd\n",
    "import re\n",
    "from pydub.utils import mediainfo\n",
    "import os\n",
    "import jsonlines"
   ]
  },
  {
   "cell_type": "code",
   "execution_count": 23,
   "metadata": {},
   "outputs": [],
   "source": [
    "df = pd.read_parquet('/data/ruiqi.yan/data/reasoning/truthful_qa/generation/validation-00000-of-00001.parquet')"
   ]
  },
  {
   "cell_type": "code",
   "execution_count": 24,
   "metadata": {},
   "outputs": [
    {
     "data": {
      "text/plain": [
       "817"
      ]
     },
     "execution_count": 24,
     "metadata": {},
     "output_type": "execute_result"
    }
   ],
   "source": [
    "len(df)"
   ]
  },
  {
   "cell_type": "code",
   "execution_count": 25,
   "metadata": {},
   "outputs": [],
   "source": [
    "df = df.drop(columns=['category'])\n",
    "df = df.drop(columns=['type'])\n",
    "df = df.drop(columns=['source'])\n",
    "df = df.drop(columns=['incorrect_answers'])"
   ]
  },
  {
   "cell_type": "code",
   "execution_count": 26,
   "metadata": {},
   "outputs": [],
   "source": [
    "df.to_json('/data/ruiqi.yan/data/reasoning/truthful_qa/test.jsonl', orient='records', lines=True, force_ascii=False)"
   ]
  },
  {
   "cell_type": "code",
   "execution_count": 27,
   "metadata": {},
   "outputs": [],
   "source": [
    "origin = []\n",
    "data = []\n",
    "with open(\"/data/ruiqi.yan/data/reasoning/truthful_qa/test.jsonl\", 'r') as f:\n",
    "    for line in jsonlines.Reader(f):\n",
    "        origin.append(line)"
   ]
  },
  {
   "cell_type": "code",
   "execution_count": 28,
   "metadata": {},
   "outputs": [
    {
     "data": {
      "text/plain": [
       "817"
      ]
     },
     "execution_count": 28,
     "metadata": {},
     "output_type": "execute_result"
    }
   ],
   "source": [
    "len(origin)"
   ]
  },
  {
   "cell_type": "code",
   "execution_count": 29,
   "metadata": {},
   "outputs": [
    {
     "data": {
      "text/plain": [
       "533"
      ]
     },
     "execution_count": 29,
     "metadata": {},
     "output_type": "execute_result"
    }
   ],
   "source": [
    "n = 0\n",
    "for i, item in enumerate(origin):\n",
    "    if len(item['question'].split()) < 30 and len(item['correct_answers']) <= 3:\n",
    "        n += 1\n",
    "n"
   ]
  },
  {
   "cell_type": "code",
   "execution_count": 30,
   "metadata": {},
   "outputs": [],
   "source": [
    "n = 0\n",
    "for i, item in enumerate(origin):\n",
    "    if len(item['question'].split()) < 30 and len(item['correct_answers']) <= 3:\n",
    "        n += 1\n",
    "        target = [item['best_answer']]\n",
    "        for s in item['correct_answers']:\n",
    "            target.append(s)\n",
    "        new = {\"id\": n,\n",
    "                \"source_text\": item['question'],\n",
    "                \"target_text\": target}\n",
    "        data.append(new)"
   ]
  },
  {
   "cell_type": "code",
   "execution_count": 31,
   "metadata": {},
   "outputs": [],
   "source": [
    "with jsonlines.open(\"/data/ruiqi.yan/data/reasoning/truthful_qa/truthful_test.jsonl\", mode='w') as writer:\n",
    "    for item in data:\n",
    "        writer.write(item)"
   ]
  }
 ],
 "metadata": {
  "kernelspec": {
   "display_name": "yrq-omni",
   "language": "python",
   "name": "python3"
  },
  "language_info": {
   "codemirror_mode": {
    "name": "ipython",
    "version": 3
   },
   "file_extension": ".py",
   "mimetype": "text/x-python",
   "name": "python",
   "nbconvert_exporter": "python",
   "pygments_lexer": "ipython3",
   "version": "3.11.10"
  }
 },
 "nbformat": 4,
 "nbformat_minor": 2
}
